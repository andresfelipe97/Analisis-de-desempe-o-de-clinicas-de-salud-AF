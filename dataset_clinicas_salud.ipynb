{
 "cells": [
  {
   "cell_type": "markdown",
   "id": "36be3180",
   "metadata": {},
   "source": [
    " Paso 1. Cargar el dataset en Python"
   ]
  },
  {
   "cell_type": "code",
   "execution_count": 1,
   "id": "935d9487",
   "metadata": {},
   "outputs": [],
   "source": [
    "import pandas as pd \n",
    "import seaborn as sns\n",
    "import matplotlib.pyplot as plt\n"
   ]
  },
  {
   "cell_type": "code",
   "execution_count": 2,
   "id": "1f2f7959",
   "metadata": {},
   "outputs": [
    {
     "data": {
      "text/html": [
       "<div>\n",
       "<style scoped>\n",
       "    .dataframe tbody tr th:only-of-type {\n",
       "        vertical-align: middle;\n",
       "    }\n",
       "\n",
       "    .dataframe tbody tr th {\n",
       "        vertical-align: top;\n",
       "    }\n",
       "\n",
       "    .dataframe thead th {\n",
       "        text-align: right;\n",
       "    }\n",
       "</style>\n",
       "<table border=\"1\" class=\"dataframe\">\n",
       "  <thead>\n",
       "    <tr style=\"text-align: right;\">\n",
       "      <th></th>\n",
       "      <th>ID_Paciente</th>\n",
       "      <th>Fecha_Atencion</th>\n",
       "      <th>Sede</th>\n",
       "      <th>Servicio</th>\n",
       "      <th>Genero</th>\n",
       "      <th>Edad</th>\n",
       "      <th>Tiempo_Espera_Min</th>\n",
       "      <th>Duracion_Consulta_Min</th>\n",
       "      <th>Ingreso_Servicio</th>\n",
       "      <th>Satisfaccion</th>\n",
       "      <th>Mes</th>\n",
       "      <th>Año</th>\n",
       "    </tr>\n",
       "  </thead>\n",
       "  <tbody>\n",
       "    <tr>\n",
       "      <th>0</th>\n",
       "      <td>P00000</td>\n",
       "      <td>2024-04-12</td>\n",
       "      <td>Clínica Norte</td>\n",
       "      <td>Consulta General</td>\n",
       "      <td>Masculino</td>\n",
       "      <td>15</td>\n",
       "      <td>20.393391</td>\n",
       "      <td>27.476527</td>\n",
       "      <td>269105</td>\n",
       "      <td>3</td>\n",
       "      <td>April</td>\n",
       "      <td>2024</td>\n",
       "    </tr>\n",
       "    <tr>\n",
       "      <th>1</th>\n",
       "      <td>P00001</td>\n",
       "      <td>2024-12-14</td>\n",
       "      <td>Clínica Norte</td>\n",
       "      <td>Ginecología</td>\n",
       "      <td>Femenino</td>\n",
       "      <td>28</td>\n",
       "      <td>33.931686</td>\n",
       "      <td>30.638673</td>\n",
       "      <td>114242</td>\n",
       "      <td>3</td>\n",
       "      <td>December</td>\n",
       "      <td>2024</td>\n",
       "    </tr>\n",
       "    <tr>\n",
       "      <th>2</th>\n",
       "      <td>P00002</td>\n",
       "      <td>2024-09-27</td>\n",
       "      <td>Clínica Norte</td>\n",
       "      <td>Ginecología</td>\n",
       "      <td>Masculino</td>\n",
       "      <td>24</td>\n",
       "      <td>20.533217</td>\n",
       "      <td>30.834836</td>\n",
       "      <td>73968</td>\n",
       "      <td>3</td>\n",
       "      <td>September</td>\n",
       "      <td>2024</td>\n",
       "    </tr>\n",
       "    <tr>\n",
       "      <th>3</th>\n",
       "      <td>P00003</td>\n",
       "      <td>2024-04-16</td>\n",
       "      <td>Clínica Centro</td>\n",
       "      <td>Consulta General</td>\n",
       "      <td>Masculino</td>\n",
       "      <td>60</td>\n",
       "      <td>13.306175</td>\n",
       "      <td>31.011952</td>\n",
       "      <td>154815</td>\n",
       "      <td>4</td>\n",
       "      <td>April</td>\n",
       "      <td>2024</td>\n",
       "    </tr>\n",
       "    <tr>\n",
       "      <th>4</th>\n",
       "      <td>P00004</td>\n",
       "      <td>2024-03-12</td>\n",
       "      <td>Clínica Centro</td>\n",
       "      <td>Consulta General</td>\n",
       "      <td>Masculino</td>\n",
       "      <td>35</td>\n",
       "      <td>21.470020</td>\n",
       "      <td>23.849735</td>\n",
       "      <td>183223</td>\n",
       "      <td>2</td>\n",
       "      <td>March</td>\n",
       "      <td>2024</td>\n",
       "    </tr>\n",
       "  </tbody>\n",
       "</table>\n",
       "</div>"
      ],
      "text/plain": [
       "  ID_Paciente Fecha_Atencion            Sede          Servicio     Genero  \\\n",
       "0      P00000     2024-04-12   Clínica Norte  Consulta General  Masculino   \n",
       "1      P00001     2024-12-14   Clínica Norte       Ginecología   Femenino   \n",
       "2      P00002     2024-09-27   Clínica Norte       Ginecología  Masculino   \n",
       "3      P00003     2024-04-16  Clínica Centro  Consulta General  Masculino   \n",
       "4      P00004     2024-03-12  Clínica Centro  Consulta General  Masculino   \n",
       "\n",
       "   Edad  Tiempo_Espera_Min  Duracion_Consulta_Min  Ingreso_Servicio  \\\n",
       "0    15          20.393391              27.476527            269105   \n",
       "1    28          33.931686              30.638673            114242   \n",
       "2    24          20.533217              30.834836             73968   \n",
       "3    60          13.306175              31.011952            154815   \n",
       "4    35          21.470020              23.849735            183223   \n",
       "\n",
       "   Satisfaccion        Mes   Año  \n",
       "0             3      April  2024  \n",
       "1             3   December  2024  \n",
       "2             3  September  2024  \n",
       "3             4      April  2024  \n",
       "4             2      March  2024  "
      ]
     },
     "execution_count": 2,
     "metadata": {},
     "output_type": "execute_result"
    }
   ],
   "source": [
    "df = pd.read_csv(\"dataset_clinicas_salud.csv\")\n",
    "df.head()"
   ]
  },
  {
   "cell_type": "markdown",
   "id": "6860c8f9",
   "metadata": {},
   "source": [
    "Paso 2. Validar estructura y valores nulos"
   ]
  },
  {
   "cell_type": "code",
   "execution_count": 3,
   "id": "eee64735",
   "metadata": {},
   "outputs": [
    {
     "name": "stdout",
     "output_type": "stream",
     "text": [
      "ID_Paciente               object\n",
      "Fecha_Atencion            object\n",
      "Sede                      object\n",
      "Servicio                  object\n",
      "Genero                    object\n",
      "Edad                       int64\n",
      "Tiempo_Espera_Min        float64\n",
      "Duracion_Consulta_Min    float64\n",
      "Ingreso_Servicio           int64\n",
      "Satisfaccion               int64\n",
      "Mes                       object\n",
      "Año                        int64\n",
      "dtype: object\n"
     ]
    }
   ],
   "source": [
    "print(df.dtypes)"
   ]
  },
  {
   "cell_type": "code",
   "execution_count": 4,
   "id": "6f8b8fcc",
   "metadata": {},
   "outputs": [
    {
     "name": "stdout",
     "output_type": "stream",
     "text": [
      "ID_Paciente              0\n",
      "Fecha_Atencion           0\n",
      "Sede                     0\n",
      "Servicio                 0\n",
      "Genero                   0\n",
      "Edad                     0\n",
      "Tiempo_Espera_Min        0\n",
      "Duracion_Consulta_Min    0\n",
      "Ingreso_Servicio         0\n",
      "Satisfaccion             0\n",
      "Mes                      0\n",
      "Año                      0\n",
      "dtype: int64\n"
     ]
    }
   ],
   "source": [
    "print(df.isnull().sum())"
   ]
  },
  {
   "cell_type": "markdown",
   "id": "f802cfe5",
   "metadata": {},
   "source": [
    "Paso 3. Obtener estadísticas descriptivas"
   ]
  },
  {
   "cell_type": "code",
   "execution_count": 5,
   "id": "eb69b72a",
   "metadata": {},
   "outputs": [
    {
     "data": {
      "text/html": [
       "<div>\n",
       "<style scoped>\n",
       "    .dataframe tbody tr th:only-of-type {\n",
       "        vertical-align: middle;\n",
       "    }\n",
       "\n",
       "    .dataframe tbody tr th {\n",
       "        vertical-align: top;\n",
       "    }\n",
       "\n",
       "    .dataframe thead th {\n",
       "        text-align: right;\n",
       "    }\n",
       "</style>\n",
       "<table border=\"1\" class=\"dataframe\">\n",
       "  <thead>\n",
       "    <tr style=\"text-align: right;\">\n",
       "      <th></th>\n",
       "      <th>Edad</th>\n",
       "      <th>Tiempo_Espera_Min</th>\n",
       "      <th>Duracion_Consulta_Min</th>\n",
       "      <th>Ingreso_Servicio</th>\n",
       "      <th>Satisfaccion</th>\n",
       "      <th>Año</th>\n",
       "    </tr>\n",
       "  </thead>\n",
       "  <tbody>\n",
       "    <tr>\n",
       "      <th>count</th>\n",
       "      <td>2000.000000</td>\n",
       "      <td>2000.000000</td>\n",
       "      <td>2000.000000</td>\n",
       "      <td>2000.000000</td>\n",
       "      <td>2000.000000</td>\n",
       "      <td>2000.0</td>\n",
       "    </tr>\n",
       "    <tr>\n",
       "      <th>mean</th>\n",
       "      <td>45.098000</td>\n",
       "      <td>20.357551</td>\n",
       "      <td>29.838092</td>\n",
       "      <td>162602.951000</td>\n",
       "      <td>3.705500</td>\n",
       "      <td>2024.0</td>\n",
       "    </tr>\n",
       "    <tr>\n",
       "      <th>std</th>\n",
       "      <td>25.781422</td>\n",
       "      <td>9.807570</td>\n",
       "      <td>5.026489</td>\n",
       "      <td>80619.804878</td>\n",
       "      <td>1.124456</td>\n",
       "      <td>0.0</td>\n",
       "    </tr>\n",
       "    <tr>\n",
       "      <th>min</th>\n",
       "      <td>1.000000</td>\n",
       "      <td>1.000000</td>\n",
       "      <td>9.729750</td>\n",
       "      <td>20050.000000</td>\n",
       "      <td>1.000000</td>\n",
       "      <td>2024.0</td>\n",
       "    </tr>\n",
       "    <tr>\n",
       "      <th>25%</th>\n",
       "      <td>23.000000</td>\n",
       "      <td>13.374666</td>\n",
       "      <td>26.534998</td>\n",
       "      <td>94482.250000</td>\n",
       "      <td>3.000000</td>\n",
       "      <td>2024.0</td>\n",
       "    </tr>\n",
       "    <tr>\n",
       "      <th>50%</th>\n",
       "      <td>45.000000</td>\n",
       "      <td>20.232296</td>\n",
       "      <td>29.852750</td>\n",
       "      <td>161609.000000</td>\n",
       "      <td>4.000000</td>\n",
       "      <td>2024.0</td>\n",
       "    </tr>\n",
       "    <tr>\n",
       "      <th>75%</th>\n",
       "      <td>68.000000</td>\n",
       "      <td>27.136395</td>\n",
       "      <td>33.260944</td>\n",
       "      <td>232147.250000</td>\n",
       "      <td>5.000000</td>\n",
       "      <td>2024.0</td>\n",
       "    </tr>\n",
       "    <tr>\n",
       "      <th>max</th>\n",
       "      <td>89.000000</td>\n",
       "      <td>55.994668</td>\n",
       "      <td>45.467148</td>\n",
       "      <td>299849.000000</td>\n",
       "      <td>5.000000</td>\n",
       "      <td>2024.0</td>\n",
       "    </tr>\n",
       "  </tbody>\n",
       "</table>\n",
       "</div>"
      ],
      "text/plain": [
       "              Edad  Tiempo_Espera_Min  Duracion_Consulta_Min  \\\n",
       "count  2000.000000        2000.000000            2000.000000   \n",
       "mean     45.098000          20.357551              29.838092   \n",
       "std      25.781422           9.807570               5.026489   \n",
       "min       1.000000           1.000000               9.729750   \n",
       "25%      23.000000          13.374666              26.534998   \n",
       "50%      45.000000          20.232296              29.852750   \n",
       "75%      68.000000          27.136395              33.260944   \n",
       "max      89.000000          55.994668              45.467148   \n",
       "\n",
       "       Ingreso_Servicio  Satisfaccion     Año  \n",
       "count       2000.000000   2000.000000  2000.0  \n",
       "mean      162602.951000      3.705500  2024.0  \n",
       "std        80619.804878      1.124456     0.0  \n",
       "min        20050.000000      1.000000  2024.0  \n",
       "25%        94482.250000      3.000000  2024.0  \n",
       "50%       161609.000000      4.000000  2024.0  \n",
       "75%       232147.250000      5.000000  2024.0  \n",
       "max       299849.000000      5.000000  2024.0  "
      ]
     },
     "execution_count": 5,
     "metadata": {},
     "output_type": "execute_result"
    }
   ],
   "source": [
    "df.describe()"
   ]
  },
  {
   "cell_type": "markdown",
   "id": "b4685f2c",
   "metadata": {},
   "source": [
    "Paso 4. Visualizar distribución y detectar outliers"
   ]
  },
  {
   "cell_type": "code",
   "execution_count": 6,
   "id": "a4759a3c",
   "metadata": {},
   "outputs": [
    {
     "data": {
      "image/png": "[encoded data removed]",
      "text/plain": [
       "<Figure size 640x480 with 1 Axes>"
      ]
     },
     "metadata": {},
     "output_type": "display_data"
    },
    {
     "data": {
      "image/png": "[encoded data removed]",
      "text/plain": [
       "<Figure size 640x480 with 1 Axes>"
      ]
     },
     "metadata": {},
     "output_type": "display_data"
    }
   ],
   "source": [
    "# Histograma de tiempo de espera\n",
    "sns.histplot(df['Tiempo_Espera_Min'], bins=30, kde=True)\n",
    "plt.title(\"Distribución del Tiempo de Espera\")\n",
    "plt.xlabel(\"Minutos\")\n",
    "plt.show()\n",
    "\n",
    "# Boxplot de ingreso por servicio\n",
    "sns.boxplot(x=df['Ingreso_Servicio'])\n",
    "plt.title(\"Outliers en Ingreso por Servicio\")\n",
    "plt.xlabel(\"Ingreso\")\n",
    "plt.show()"
   ]
  },
  {
   "cell_type": "markdown",
   "id": "9f14d001",
   "metadata": {},
   "source": [
    "Detectar y decidir."
   ]
  },
  {
   "cell_type": "code",
   "execution_count": 7,
   "id": "753fdcd1",
   "metadata": {},
   "outputs": [
    {
     "data": {
      "text/html": [
       "<div>\n",
       "<style scoped>\n",
       "    .dataframe tbody tr th:only-of-type {\n",
       "        vertical-align: middle;\n",
       "    }\n",
       "\n",
       "    .dataframe tbody tr th {\n",
       "        vertical-align: top;\n",
       "    }\n",
       "\n",
       "    .dataframe thead th {\n",
       "        text-align: right;\n",
       "    }\n",
       "</style>\n",
       "<table border=\"1\" class=\"dataframe\">\n",
       "  <thead>\n",
       "    <tr style=\"text-align: right;\">\n",
       "      <th></th>\n",
       "      <th>ID_Paciente</th>\n",
       "      <th>Fecha_Atencion</th>\n",
       "      <th>Sede</th>\n",
       "      <th>Servicio</th>\n",
       "      <th>Genero</th>\n",
       "      <th>Edad</th>\n",
       "      <th>Tiempo_Espera_Min</th>\n",
       "      <th>Duracion_Consulta_Min</th>\n",
       "      <th>Ingreso_Servicio</th>\n",
       "      <th>Satisfaccion</th>\n",
       "      <th>Mes</th>\n",
       "      <th>Año</th>\n",
       "    </tr>\n",
       "  </thead>\n",
       "  <tbody>\n",
       "  </tbody>\n",
       "</table>\n",
       "</div>"
      ],
      "text/plain": [
       "Empty DataFrame\n",
       "Columns: [ID_Paciente, Fecha_Atencion, Sede, Servicio, Genero, Edad, Tiempo_Espera_Min, Duracion_Consulta_Min, Ingreso_Servicio, Satisfaccion, Mes, Año]\n",
       "Index: []"
      ]
     },
     "execution_count": 7,
     "metadata": {},
     "output_type": "execute_result"
    }
   ],
   "source": [
    "#¿Cuántos valores hay mayores a 120 minutos?\n",
    "df[df['Tiempo_Espera_Min']>120]"
   ]
  },
  {
   "cell_type": "code",
   "execution_count": 8,
   "id": "018f9ae2",
   "metadata": {},
   "outputs": [
    {
     "name": "stdout",
     "output_type": "stream",
     "text": [
      "0 registros\n",
      "0.00% del total\n"
     ]
    }
   ],
   "source": [
    "#¿Cuántos son y qué porcentaje del total representan?\n",
    "\n",
    "outliers = df[df['Tiempo_Espera_Min']>120]\n",
    "print(len(outliers),\"registros\")\n",
    "print(f\"{len(outliers)/len(df)*100:.2f}% del total\")"
   ]
  },
  {
   "cell_type": "markdown",
   "id": "0f96114a",
   "metadata": {},
   "source": [
    "Decisión"
   ]
  },
  {
   "cell_type": "code",
   "execution_count": 9,
   "id": "9b0570bb",
   "metadata": {},
   "outputs": [],
   "source": [
    "#Si son muy pocos (ej. menos del 1%), se pueden eliminar así\n",
    "df = df[df['Tiempo_Espera_Min']<=120]"
   ]
  },
  {
   "cell_type": "markdown",
   "id": "9dcfe8ac",
   "metadata": {},
   "source": [
    "# Parte 2 – Análisis de KPIs e Insights"
   ]
  },
  {
   "cell_type": "markdown",
   "id": "3237b4fe",
   "metadata": {},
   "source": [
    "Objetivo\n",
    "Generar indicadores clave para responder preguntas como:\n",
    "\n",
    "¿Qué sede tiene más pacientes?\n",
    "\n",
    "¿Cuál servicio genera más ingresos?\n",
    "\n",
    "¿Dónde se atiende más rápido?\n",
    "\n",
    "¿Qué sede tiene mayor satisfacción del paciente?"
   ]
  },
  {
   "cell_type": "markdown",
   "id": "bd2fcde8",
   "metadata": {},
   "source": [
    "Paso 1. Pacientes atendidos por sede y por mes"
   ]
  },
  {
   "cell_type": "code",
   "execution_count": 10,
   "id": "de8f139a",
   "metadata": {},
   "outputs": [
    {
     "data": {
      "text/html": [
       "<div>\n",
       "<style scoped>\n",
       "    .dataframe tbody tr th:only-of-type {\n",
       "        vertical-align: middle;\n",
       "    }\n",
       "\n",
       "    .dataframe tbody tr th {\n",
       "        vertical-align: top;\n",
       "    }\n",
       "\n",
       "    .dataframe thead th {\n",
       "        text-align: right;\n",
       "    }\n",
       "</style>\n",
       "<table border=\"1\" class=\"dataframe\">\n",
       "  <thead>\n",
       "    <tr style=\"text-align: right;\">\n",
       "      <th></th>\n",
       "      <th>Sede</th>\n",
       "      <th>Mes</th>\n",
       "      <th>Pacientes</th>\n",
       "    </tr>\n",
       "  </thead>\n",
       "  <tbody>\n",
       "    <tr>\n",
       "      <th>0</th>\n",
       "      <td>Clínica Centro</td>\n",
       "      <td>April</td>\n",
       "      <td>55</td>\n",
       "    </tr>\n",
       "    <tr>\n",
       "      <th>1</th>\n",
       "      <td>Clínica Centro</td>\n",
       "      <td>August</td>\n",
       "      <td>73</td>\n",
       "    </tr>\n",
       "    <tr>\n",
       "      <th>2</th>\n",
       "      <td>Clínica Centro</td>\n",
       "      <td>December</td>\n",
       "      <td>51</td>\n",
       "    </tr>\n",
       "    <tr>\n",
       "      <th>3</th>\n",
       "      <td>Clínica Centro</td>\n",
       "      <td>February</td>\n",
       "      <td>44</td>\n",
       "    </tr>\n",
       "    <tr>\n",
       "      <th>4</th>\n",
       "      <td>Clínica Centro</td>\n",
       "      <td>January</td>\n",
       "      <td>54</td>\n",
       "    </tr>\n",
       "  </tbody>\n",
       "</table>\n",
       "</div>"
      ],
      "text/plain": [
       "             Sede       Mes  Pacientes\n",
       "0  Clínica Centro     April         55\n",
       "1  Clínica Centro    August         73\n",
       "2  Clínica Centro  December         51\n",
       "3  Clínica Centro  February         44\n",
       "4  Clínica Centro   January         54"
      ]
     },
     "execution_count": 10,
     "metadata": {},
     "output_type": "execute_result"
    }
   ],
   "source": [
    "pacientes_por_sede_mes = df.groupby(['Sede', 'Mes']).size().reset_index(name='Pacientes')\n",
    "pacientes_por_sede_mes.head()"
   ]
  },
  {
   "cell_type": "markdown",
   "id": "5dfead3d",
   "metadata": {},
   "source": [
    "Paso 2. Ingreso total y promedio por servicio"
   ]
  },
  {
   "cell_type": "code",
   "execution_count": 11,
   "id": "ac09bc98",
   "metadata": {},
   "outputs": [
    {
     "data": {
      "text/html": [
       "<div>\n",
       "<style scoped>\n",
       "    .dataframe tbody tr th:only-of-type {\n",
       "        vertical-align: middle;\n",
       "    }\n",
       "\n",
       "    .dataframe tbody tr th {\n",
       "        vertical-align: top;\n",
       "    }\n",
       "\n",
       "    .dataframe thead th {\n",
       "        text-align: right;\n",
       "    }\n",
       "</style>\n",
       "<table border=\"1\" class=\"dataframe\">\n",
       "  <thead>\n",
       "    <tr style=\"text-align: right;\">\n",
       "      <th></th>\n",
       "      <th>Servicio</th>\n",
       "      <th>Ingreso_Total</th>\n",
       "      <th>Ingreso_Promedio</th>\n",
       "      <th>Total_Pacientes</th>\n",
       "    </tr>\n",
       "  </thead>\n",
       "  <tbody>\n",
       "    <tr>\n",
       "      <th>3</th>\n",
       "      <td>Pediatría</td>\n",
       "      <td>67851346</td>\n",
       "      <td>162323.794258</td>\n",
       "      <td>418</td>\n",
       "    </tr>\n",
       "    <tr>\n",
       "      <th>1</th>\n",
       "      <td>Ginecología</td>\n",
       "      <td>66017720</td>\n",
       "      <td>164223.184080</td>\n",
       "      <td>402</td>\n",
       "    </tr>\n",
       "    <tr>\n",
       "      <th>2</th>\n",
       "      <td>Laboratorio</td>\n",
       "      <td>65740464</td>\n",
       "      <td>162322.133333</td>\n",
       "      <td>405</td>\n",
       "    </tr>\n",
       "    <tr>\n",
       "      <th>0</th>\n",
       "      <td>Consulta General</td>\n",
       "      <td>63345737</td>\n",
       "      <td>164962.856771</td>\n",
       "      <td>384</td>\n",
       "    </tr>\n",
       "    <tr>\n",
       "      <th>4</th>\n",
       "      <td>Urgencias</td>\n",
       "      <td>62250635</td>\n",
       "      <td>159208.785166</td>\n",
       "      <td>391</td>\n",
       "    </tr>\n",
       "  </tbody>\n",
       "</table>\n",
       "</div>"
      ],
      "text/plain": [
       "           Servicio  Ingreso_Total  Ingreso_Promedio  Total_Pacientes\n",
       "3         Pediatría       67851346     162323.794258              418\n",
       "1       Ginecología       66017720     164223.184080              402\n",
       "2       Laboratorio       65740464     162322.133333              405\n",
       "0  Consulta General       63345737     164962.856771              384\n",
       "4         Urgencias       62250635     159208.785166              391"
      ]
     },
     "execution_count": 11,
     "metadata": {},
     "output_type": "execute_result"
    }
   ],
   "source": [
    "ingreso_por_servicio = df.groupby('Servicio')['Ingreso_Servicio'].agg(['sum', 'mean','count']).reset_index()\n",
    "ingreso_por_servicio.columns = ['Servicio', 'Ingreso_Total', 'Ingreso_Promedio', 'Total_Pacientes']\n",
    "ingreso_por_servicio.sort_values('Ingreso_Total', ascending=False)"
   ]
  },
  {
   "cell_type": "markdown",
   "id": "8e597e3a",
   "metadata": {},
   "source": [
    "Paso 3. Tiempo de espera promedio por sede y por servicio\n",
    "\n"
   ]
  },
  {
   "cell_type": "code",
   "execution_count": 12,
   "id": "20dd3eff",
   "metadata": {},
   "outputs": [
    {
     "data": {
      "text/html": [
       "<div>\n",
       "<style scoped>\n",
       "    .dataframe tbody tr th:only-of-type {\n",
       "        vertical-align: middle;\n",
       "    }\n",
       "\n",
       "    .dataframe tbody tr th {\n",
       "        vertical-align: top;\n",
       "    }\n",
       "\n",
       "    .dataframe thead th {\n",
       "        text-align: right;\n",
       "    }\n",
       "</style>\n",
       "<table border=\"1\" class=\"dataframe\">\n",
       "  <thead>\n",
       "    <tr style=\"text-align: right;\">\n",
       "      <th></th>\n",
       "      <th>Sede</th>\n",
       "      <th>Servicio</th>\n",
       "      <th>Tiempo_Espera_Prom</th>\n",
       "    </tr>\n",
       "  </thead>\n",
       "  <tbody>\n",
       "    <tr>\n",
       "      <th>7</th>\n",
       "      <td>Clínica Norte</td>\n",
       "      <td>Laboratorio</td>\n",
       "      <td>18.579976</td>\n",
       "    </tr>\n",
       "    <tr>\n",
       "      <th>13</th>\n",
       "      <td>Clínica Sur</td>\n",
       "      <td>Pediatría</td>\n",
       "      <td>19.011757</td>\n",
       "    </tr>\n",
       "    <tr>\n",
       "      <th>10</th>\n",
       "      <td>Clínica Sur</td>\n",
       "      <td>Consulta General</td>\n",
       "      <td>19.097957</td>\n",
       "    </tr>\n",
       "    <tr>\n",
       "      <th>8</th>\n",
       "      <td>Clínica Norte</td>\n",
       "      <td>Pediatría</td>\n",
       "      <td>19.650850</td>\n",
       "    </tr>\n",
       "    <tr>\n",
       "      <th>14</th>\n",
       "      <td>Clínica Sur</td>\n",
       "      <td>Urgencias</td>\n",
       "      <td>19.728154</td>\n",
       "    </tr>\n",
       "    <tr>\n",
       "      <th>0</th>\n",
       "      <td>Clínica Centro</td>\n",
       "      <td>Consulta General</td>\n",
       "      <td>20.153118</td>\n",
       "    </tr>\n",
       "    <tr>\n",
       "      <th>3</th>\n",
       "      <td>Clínica Centro</td>\n",
       "      <td>Pediatría</td>\n",
       "      <td>20.178292</td>\n",
       "    </tr>\n",
       "    <tr>\n",
       "      <th>6</th>\n",
       "      <td>Clínica Norte</td>\n",
       "      <td>Ginecología</td>\n",
       "      <td>20.519097</td>\n",
       "    </tr>\n",
       "    <tr>\n",
       "      <th>11</th>\n",
       "      <td>Clínica Sur</td>\n",
       "      <td>Ginecología</td>\n",
       "      <td>20.526610</td>\n",
       "    </tr>\n",
       "    <tr>\n",
       "      <th>4</th>\n",
       "      <td>Clínica Centro</td>\n",
       "      <td>Urgencias</td>\n",
       "      <td>20.546714</td>\n",
       "    </tr>\n",
       "    <tr>\n",
       "      <th>2</th>\n",
       "      <td>Clínica Centro</td>\n",
       "      <td>Laboratorio</td>\n",
       "      <td>21.088974</td>\n",
       "    </tr>\n",
       "    <tr>\n",
       "      <th>1</th>\n",
       "      <td>Clínica Centro</td>\n",
       "      <td>Ginecología</td>\n",
       "      <td>21.224673</td>\n",
       "    </tr>\n",
       "    <tr>\n",
       "      <th>12</th>\n",
       "      <td>Clínica Sur</td>\n",
       "      <td>Laboratorio</td>\n",
       "      <td>21.546895</td>\n",
       "    </tr>\n",
       "    <tr>\n",
       "      <th>9</th>\n",
       "      <td>Clínica Norte</td>\n",
       "      <td>Urgencias</td>\n",
       "      <td>21.718085</td>\n",
       "    </tr>\n",
       "    <tr>\n",
       "      <th>5</th>\n",
       "      <td>Clínica Norte</td>\n",
       "      <td>Consulta General</td>\n",
       "      <td>22.005164</td>\n",
       "    </tr>\n",
       "  </tbody>\n",
       "</table>\n",
       "</div>"
      ],
      "text/plain": [
       "              Sede          Servicio  Tiempo_Espera_Prom\n",
       "7    Clínica Norte       Laboratorio           18.579976\n",
       "13     Clínica Sur         Pediatría           19.011757\n",
       "10     Clínica Sur  Consulta General           19.097957\n",
       "8    Clínica Norte         Pediatría           19.650850\n",
       "14     Clínica Sur         Urgencias           19.728154\n",
       "0   Clínica Centro  Consulta General           20.153118\n",
       "3   Clínica Centro         Pediatría           20.178292\n",
       "6    Clínica Norte       Ginecología           20.519097\n",
       "11     Clínica Sur       Ginecología           20.526610\n",
       "4   Clínica Centro         Urgencias           20.546714\n",
       "2   Clínica Centro       Laboratorio           21.088974\n",
       "1   Clínica Centro       Ginecología           21.224673\n",
       "12     Clínica Sur       Laboratorio           21.546895\n",
       "9    Clínica Norte         Urgencias           21.718085\n",
       "5    Clínica Norte  Consulta General           22.005164"
      ]
     },
     "execution_count": 12,
     "metadata": {},
     "output_type": "execute_result"
    }
   ],
   "source": [
    "espera_sede_servicio = df.groupby([\"Sede\", \"Servicio\"])['Tiempo_Espera_Min'].mean().reset_index()\n",
    "espera_sede_servicio.columns =['Sede','Servicio','Tiempo_Espera_Prom']\n",
    "espera_sede_servicio.sort_values('Tiempo_Espera_Prom')"
   ]
  },
  {
   "cell_type": "markdown",
   "id": "a1b5c811",
   "metadata": {},
   "source": [
    "Paso 4: Satisfacción promedio por sede"
   ]
  },
  {
   "cell_type": "code",
   "execution_count": 13,
   "id": "8340ad8e",
   "metadata": {},
   "outputs": [
    {
     "data": {
      "text/html": [
       "<div>\n",
       "<style scoped>\n",
       "    .dataframe tbody tr th:only-of-type {\n",
       "        vertical-align: middle;\n",
       "    }\n",
       "\n",
       "    .dataframe tbody tr th {\n",
       "        vertical-align: top;\n",
       "    }\n",
       "\n",
       "    .dataframe thead th {\n",
       "        text-align: right;\n",
       "    }\n",
       "</style>\n",
       "<table border=\"1\" class=\"dataframe\">\n",
       "  <thead>\n",
       "    <tr style=\"text-align: right;\">\n",
       "      <th></th>\n",
       "      <th>Sede</th>\n",
       "      <th>Satisfaccion_Promedio</th>\n",
       "    </tr>\n",
       "  </thead>\n",
       "  <tbody>\n",
       "    <tr>\n",
       "      <th>0</th>\n",
       "      <td>Clínica Centro</td>\n",
       "      <td>3.727554</td>\n",
       "    </tr>\n",
       "    <tr>\n",
       "      <th>1</th>\n",
       "      <td>Clínica Norte</td>\n",
       "      <td>3.698140</td>\n",
       "    </tr>\n",
       "    <tr>\n",
       "      <th>2</th>\n",
       "      <td>Clínica Sur</td>\n",
       "      <td>3.691603</td>\n",
       "    </tr>\n",
       "  </tbody>\n",
       "</table>\n",
       "</div>"
      ],
      "text/plain": [
       "             Sede  Satisfaccion_Promedio\n",
       "0  Clínica Centro               3.727554\n",
       "1   Clínica Norte               3.698140\n",
       "2     Clínica Sur               3.691603"
      ]
     },
     "execution_count": 13,
     "metadata": {},
     "output_type": "execute_result"
    }
   ],
   "source": [
    "satisfaccion_sede = df.groupby('Sede').agg(\n",
    "    Satisfaccion_Promedio=('Satisfaccion', 'mean')\n",
    ").reset_index().sort_values('Satisfaccion_Promedio', ascending=False)\n",
    "\n",
    "satisfaccion_sede\n"
   ]
  },
  {
   "cell_type": "code",
   "execution_count": 14,
   "id": "83bd2e19",
   "metadata": {},
   "outputs": [],
   "source": [
    "# Ejemplo para limpiar columnas de tiempo, ingresos y satisfacción\n",
    "columnas_a_corregir = ['Tiempo_Espera_Min', 'Ingreso_Servicio', 'Satisfaccion']\n",
    "\n",
    "for col in columnas_a_corregir:\n",
    "    df[col] = pd.to_numeric(df[col], errors='coerce').round(2)\n"
   ]
  },
  {
   "cell_type": "code",
   "execution_count": 15,
   "id": "837a782d",
   "metadata": {},
   "outputs": [],
   "source": [
    "df.to_csv('datos_limpios_salud.csv', index=False, float_format='%.2f')\n"
   ]
  },
  {
   "cell_type": "markdown",
   "id": "a227e596",
   "metadata": {},
   "source": [
    "# Parte 3 – Exportación de datos procesados para Power BI"
   ]
  },
  {
   "cell_type": "code",
   "execution_count": 16,
   "id": "d66720f2",
   "metadata": {},
   "outputs": [],
   "source": [
    "# 1. Dataset principal limpio\n",
    "df.to_csv(\"datos_limpios_salud.csv\", index=False)\n",
    "\n",
    "# 2. Pacientes por sede y mes\n",
    "pacientes_por_sede_mes.to_csv(\"kpi_pacientes_por_sede_mes.csv\", index=False)\n",
    "\n",
    "# 3. Ingreso promedio por servicio\n",
    "ingreso_por_servicio.to_csv(\"kpi_ingreso_promedio_servicio.csv\", index=False,  float_format='%.2f')\n",
    "\n",
    "# 4. Tiempo de espera promedio por sede y servicio\n",
    "espera_sede_servicio.to_csv(\"kpi_espera_promedio.csv\", index=False, float_format='%.2f')\n",
    "\n",
    "# 5. Satisfacción promedio por sede\n",
    "satisfaccion_sede.to_csv(\"kpi_satisfaccion_promedio.csv\", index=False , float_format='%.2f')\n"
   ]
  }
 ],
 "metadata": {
  "kernelspec": {
   "display_name": "Python 3",
   "language": "python",
   "name": "python3"
  },
  "language_info": {
   "codemirror_mode": {
    "name": "ipython",
    "version": 3
   },
   "file_extension": ".py",
   "mimetype": "text/x-python",
   "name": "python",
   "nbconvert_exporter": "python",
   "pygments_lexer": "ipython3",
   "version": "3.13.2"
  }
 },
 "nbformat": 4,
 "nbformat_minor": 5
}
